{
 "cells": [
  {
   "cell_type": "markdown",
   "metadata": {},
   "source": [
    "# Guessing Game"
   ]
  },
  {
   "cell_type": "code",
   "execution_count": null,
   "metadata": {},
   "outputs": [],
   "source": [
    "import random \n",
    "\n",
    "guess=7\n",
    "counter=2\n",
    "trails= [0,1,2,3,4,5,6,7,8,9,10]\n",
    "\n",
    "\n",
    "t=int(input('Enter trials number: ' ) ) \n",
    "g=int(input('\\n\\n What is your guess from 0-10? ') )\n",
    "\n",
    "\n",
    "if t==0:\n",
    "    t=(random.choice(trails))\n",
    "\n",
    "while counter<=t:\n",
    "    if g==guess:\n",
    "        print ('\\n\\n Correct, you got it!') \n",
    "        break\n",
    "    \n",
    "    else:\n",
    "        print ('Oh! .. try again!')\n",
    "        g= int(input('Again, what is your guess from 0-10? '))\n",
    "        counter = counter+1\n",
    "    \n",
    "else:\n",
    "    print('\\n\\n Good luck!, you finished your trails!')"
   ]
  },
  {
   "cell_type": "markdown",
   "metadata": {},
   "source": [
    "# PYTHON 100 times"
   ]
  },
  {
   "cell_type": "code",
   "execution_count": null,
   "metadata": {},
   "outputs": [],
   "source": [
    "print('PYTHON\\n' * 100)"
   ]
  },
  {
   "cell_type": "markdown",
   "metadata": {},
   "source": [
    "# Turtal Shape"
   ]
  },
  {
   "cell_type": "code",
   "execution_count": null,
   "metadata": {},
   "outputs": [],
   "source": [
    "import turtle\n",
    "turtle.shape('turtle')\n",
    "x =0\n",
    "scale =0\n",
    "for x in range (60):\n",
    "    scale+=5\n",
    "    for i in range(4):\n",
    "        turtle.forward(25+scale)\n",
    "        turtle.right(90)\n",
    "    turtle.right(5)"
   ]
  }
 ],
 "metadata": {
  "kernelspec": {
   "display_name": "Python 3",
   "language": "python",
   "name": "python3"
  },
  "language_info": {
   "codemirror_mode": {
    "name": "ipython",
    "version": 3
   },
   "file_extension": ".py",
   "mimetype": "text/x-python",
   "name": "python",
   "nbconvert_exporter": "python",
   "pygments_lexer": "ipython3",
   "version": "3.8.5"
  }
 },
 "nbformat": 4,
 "nbformat_minor": 4
}
